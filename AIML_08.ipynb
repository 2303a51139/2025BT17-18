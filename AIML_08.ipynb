{
  "nbformat": 4,
  "nbformat_minor": 0,
  "metadata": {
    "colab": {
      "provenance": [],
      "authorship_tag": "ABX9TyNeNAEAPwrQTlGUbajUfLZz",
      "include_colab_link": true
    },
    "kernelspec": {
      "name": "python3",
      "display_name": "Python 3"
    },
    "language_info": {
      "name": "python"
    }
  },
  "cells": [
    {
      "cell_type": "markdown",
      "metadata": {
        "id": "view-in-github",
        "colab_type": "text"
      },
      "source": [
        "<a href=\"https://colab.research.google.com/github/2303a51139/2025BT17-18/blob/main/AIML_08.ipynb\" target=\"_parent\"><img src=\"https://colab.research.google.com/assets/colab-badge.svg\" alt=\"Open In Colab\"/></a>"
      ]
    },
    {
      "cell_type": "code",
      "execution_count": 2,
      "metadata": {
        "id": "LnVxRWEvpHe3",
        "colab": {
          "base_uri": "https://localhost:8080/"
        },
        "outputId": "57fda60d-1eb6-4ed7-ee22-4f666368dd2d"
      },
      "outputs": [
        {
          "output_type": "stream",
          "name": "stdout",
          "text": [
            "Type of my_list: <class 'list'>\n",
            "Type of my_array: <class 'numpy.ndarray'>\n",
            "List after mult: [18, 16, 14, 12, 10]\n",
            "Array after mul: [18 16 14 12 10]\n",
            "List after div: [4.5, 4.0, 3.5, 3.0, 2.5]\n",
            "Array after div: [4.5 4.  3.5 3.  2.5]\n",
            "List after power: [81, 64, 49, 36, 25]\n",
            "Array after power: [81 64 49 36 25]\n",
            "Addition of Two: array1 + array2 = [5 7 9]\n",
            "np.sin(my_array): [ 0.41211849  0.98935825  0.6569866  -0.2794155  -0.95892427]\n",
            "np.log(my_array): [2.19722458 2.07944154 1.94591015 1.79175947 1.60943791]\n",
            "np.log2(my_array): [3.169925   3.         2.80735492 2.5849625  2.32192809]\n",
            "np.exp(my_array): [8103.08392758 2980.95798704 1096.63315843  403.42879349  148.4131591 ]\n"
          ]
        }
      ],
      "source": [
        "import numpy as np\n",
        "my_list = [9, 8, 7, 6, 5]\n",
        "my_array = np.array([9, 8, 7, 6, 5])\n",
        "print(\"Type of my_list:\", type(my_list))\n",
        "print(\"Type of my_array:\", type(my_array))\n",
        "list_mul = [x * 2 for x in my_list]\n",
        "array_mul = my_array * 2\n",
        "list_div = [x / 2 for x in my_list]\n",
        "array_div = my_array / 2\n",
        "list_power = [x ** 2 for x in my_list]\n",
        "array_power = np.power(my_array, 2)\n",
        "print(\"List after mult:\", list_mul)\n",
        "print(\"Array after mul:\", array_mul)\n",
        "print(\"List after div:\", list_div)\n",
        "print(\"Array after div:\", array_div)\n",
        "print(\"List after power:\", list_power)\n",
        "print(\"Array after power:\", array_power)\n",
        "array1 = np.array([1, 2, 3])\n",
        "array2 = np.array([4, 5, 6])\n",
        "combined_text = f\"Addition of Two: array1 + array2 = {array1 + array2}\"\n",
        "print(combined_text)\n",
        "sin_values = np.sin(my_array)\n",
        "log_values = np.log(my_array)\n",
        "log2_values = np.log2(my_array)\n",
        "exp_values = np.exp(my_array)\n",
        "print(\"np.sin(my_array):\", sin_values)\n",
        "print(\"np.log(my_array):\", log_values)\n",
        "print(\"np.log2(my_array):\", log2_values)\n",
        "print(\"np.exp(my_array):\", exp_values)\n"
      ]
    }
  ]
}